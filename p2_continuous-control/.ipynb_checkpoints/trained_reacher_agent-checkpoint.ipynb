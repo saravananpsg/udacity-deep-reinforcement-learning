{
 "cells": [
  {
   "cell_type": "code",
   "execution_count": 1,
   "metadata": {},
   "outputs": [],
   "source": [
    "from unityagents import UnityEnvironment\n",
    "import numpy as np\n",
    "from collections import deque\n",
    "import matplotlib.pyplot as plt\n",
    "import torch\n",
    "from ddpg_agent import Agent\n",
    "from model import Actor,Critic\n",
    "import time"
   ]
  },
  {
   "cell_type": "code",
   "execution_count": null,
   "metadata": {},
   "outputs": [],
   "source": [
    "#Load the visualization of the environment\n",
    "env = UnityEnvironment(file_name='/data/Reacher_Linux/Reacher.x86_64', worker_id=12)"
   ]
  },
  {
   "cell_type": "code",
   "execution_count": null,
   "metadata": {},
   "outputs": [],
   "source": [
    "brain_name = env.brain_names[0]\n",
    "brain = env.brains[brain_name]\n",
    "\n",
    "# reset the environment (Don't use training mode so we can easily watch)\n",
    "env_info = env.reset(train_mode=False)[brain_name]\n",
    "\n",
    "# number of agents\n",
    "num_agents = len(env_info.agents)\n",
    "print('Number of agents:', num_agents)\n",
    "\n",
    "# size of each action\n",
    "action_size = brain.vector_action_space_size\n",
    "print('Size of each action:', action_size)\n",
    "\n",
    "# size of each state\n",
    "state_size = brain.vector_observation_space_size\n",
    "print('Size of each state:', state_size)"
   ]
  },
  {
   "cell_type": "code",
   "execution_count": null,
   "metadata": {},
   "outputs": [],
   "source": [
    "def visualize(agent):\n",
    "    env_info = env.reset(train_mode=True)[brain_name]\n",
    "    states = env_info.vector_observations\n",
    "\n",
    "    while True:\n",
    "        states = torch.Tensor(states).cuda()\n",
    "        actions, log_probs, values = agent.network(states)\n",
    "        env_info = env.step(actions.cpu().detach().numpy())[brain_name]\n",
    "        rewards = env_info.rewards\n",
    "        dones = np.array(env_info.local_done)\n",
    "        next_states = env_info.vector_observations\n",
    "\n",
    "        states = next_states\n",
    "        \n",
    "        time.sleep(0.005)\n",
    "\n",
    "        if np.any(dones):\n",
    "            break\n",
    "\n",
    "agent = Agent(env, brain_name, num_agents, state_size, action_size)\n",
    "checkpoint = torch.load('solution.ckpt')\n",
    "agent.network.load_state_dict(checkpoint)\n",
    "visualize(agent)"
   ]
  }
 ],
 "metadata": {
  "kernelspec": {
   "display_name": "Python 3",
   "language": "python",
   "name": "python3"
  },
  "language_info": {
   "codemirror_mode": {
    "name": "ipython",
    "version": 3
   },
   "file_extension": ".py",
   "mimetype": "text/x-python",
   "name": "python",
   "nbconvert_exporter": "python",
   "pygments_lexer": "ipython3",
   "version": "3.7.4"
  }
 },
 "nbformat": 4,
 "nbformat_minor": 2
}
