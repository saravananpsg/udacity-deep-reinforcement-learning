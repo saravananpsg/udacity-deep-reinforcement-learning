{
 "cells": [
  {
   "cell_type": "markdown",
   "metadata": {},
   "source": [
    "# Collaboration and Competition\n",
    "\n",
    "---\n",
    "\n",
    "You are welcome to use this coding environment to train your agent for the project.  Follow the instructions below to get started!\n",
    "\n",
    "### 1. Start the Environment\n",
    "\n",
    "Run the next code cell to install a few packages.  This line will take a few minutes to run!"
   ]
  },
  {
   "cell_type": "code",
   "execution_count": 1,
   "metadata": {},
   "outputs": [
    {
     "name": "stdout",
     "output_type": "stream",
     "text": [
      "\u001b[31mtensorflow 1.7.1 has requirement numpy>=1.13.3, but you'll have numpy 1.12.1 which is incompatible.\u001b[0m\r\n",
      "\u001b[31mipython 6.5.0 has requirement prompt-toolkit<2.0.0,>=1.0.15, but you'll have prompt-toolkit 3.0.3 which is incompatible.\u001b[0m\r\n"
     ]
    }
   ],
   "source": [
    "!pip -q install ./python"
   ]
  },
  {
   "cell_type": "markdown",
   "metadata": {},
   "source": [
    "The environment is already saved in the Workspace and can be accessed at the file path provided below. "
   ]
  },
  {
   "cell_type": "code",
   "execution_count": 2,
   "metadata": {},
   "outputs": [
    {
     "name": "stderr",
     "output_type": "stream",
     "text": [
      "INFO:unityagents:\n",
      "'Academy' started successfully!\n",
      "Unity Academy name: Academy\n",
      "        Number of Brains: 1\n",
      "        Number of External Brains : 1\n",
      "        Lesson number : 0\n",
      "        Reset Parameters :\n",
      "\t\t\n",
      "Unity brain name: TennisBrain\n",
      "        Number of Visual Observations (per agent): 0\n",
      "        Vector Observation space type: continuous\n",
      "        Vector Observation space size (per agent): 8\n",
      "        Number of stacked Vector Observation: 3\n",
      "        Vector Action space type: continuous\n",
      "        Vector Action space size (per agent): 2\n",
      "        Vector Action descriptions: , \n"
     ]
    }
   ],
   "source": [
    "from unityagents import UnityEnvironment\n",
    "import numpy as np\n",
    "from workspace_utils import active_session\n",
    "\n",
    "env = UnityEnvironment(file_name=\"/data/Tennis_Linux_NoVis/Tennis\")"
   ]
  },
  {
   "cell_type": "code",
   "execution_count": 3,
   "metadata": {},
   "outputs": [],
   "source": [
    "\n",
    "from maddpg_agent import Agent\n",
    "from collections import deque\n",
    "import matplotlib.pyplot as plt\n",
    "import numpy as np\n",
    "import random\n",
    "import time\n",
    "import torch\n"
   ]
  },
  {
   "cell_type": "markdown",
   "metadata": {},
   "source": [
    "Environments contain **_brains_** which are responsible for deciding the actions of their associated agents. Here we check for the first brain available, and set it as the default brain we will be controlling from Python."
   ]
  },
  {
   "cell_type": "code",
   "execution_count": 4,
   "metadata": {},
   "outputs": [],
   "source": [
    "# get the default brain\n",
    "brain_name = env.brain_names[0]\n",
    "brain = env.brains[brain_name]"
   ]
  },
  {
   "cell_type": "markdown",
   "metadata": {},
   "source": [
    "### 2. Examine the State and Action Spaces\n",
    "\n",
    "Run the code cell below to print some information about the environment."
   ]
  },
  {
   "cell_type": "code",
   "execution_count": 5,
   "metadata": {},
   "outputs": [
    {
     "name": "stdout",
     "output_type": "stream",
     "text": [
      "Number of agents: 2\n",
      "Size of each action: 2\n",
      "There are 2 agents. Each observes a state with length: 24\n",
      "The state for the first agent looks like: [ 0.          0.          0.          0.          0.          0.          0.\n",
      "  0.          0.          0.          0.          0.          0.          0.\n",
      "  0.          0.         -6.65278625 -1.5        -0.          0.\n",
      "  6.83172083  6.         -0.          0.        ]\n"
     ]
    }
   ],
   "source": [
    "# reset the environment\n",
    "env_info = env.reset(train_mode=True)[brain_name]\n",
    "\n",
    "# number of agents \n",
    "num_agents = len(env_info.agents)\n",
    "print('Number of agents:', num_agents)\n",
    "\n",
    "# size of each action\n",
    "action_size = brain.vector_action_space_size\n",
    "print('Size of each action:', action_size)\n",
    "\n",
    "# examine the state space \n",
    "states = env_info.vector_observations\n",
    "state_size = states.shape[1]\n",
    "print('There are {} agents. Each observes a state with length: {}'.format(states.shape[0], state_size))\n",
    "print('The state for the first agent looks like:', states[0])"
   ]
  },
  {
   "cell_type": "markdown",
   "metadata": {},
   "source": [
    "### 3. Take Random Actions in the Environment\n",
    "\n",
    "In the next code cell, you will learn how to use the Python API to control the agent and receive feedback from the environment.\n",
    "\n",
    "Note that **in this coding environment, you will not be able to watch the agents while they are training**, and you should set `train_mode=True` to restart the environment."
   ]
  },
  {
   "cell_type": "code",
   "execution_count": 6,
   "metadata": {},
   "outputs": [
    {
     "name": "stdout",
     "output_type": "stream",
     "text": [
      "Score (max over agents) from episode 1: 0.0\n",
      "Score (max over agents) from episode 2: 0.0\n",
      "Score (max over agents) from episode 3: 0.0\n",
      "Score (max over agents) from episode 4: 0.09000000171363354\n",
      "Score (max over agents) from episode 5: 0.09000000171363354\n"
     ]
    }
   ],
   "source": [
    "for i in range(1, 6):                                      # play game for 5 episodes\n",
    "    env_info = env.reset(train_mode=False)[brain_name]     # reset the environment    \n",
    "    states = env_info.vector_observations                  # get the current state (for each agent)\n",
    "    scores = np.zeros(num_agents)                          # initialize the score (for each agent)\n",
    "    while True:\n",
    "        actions = np.random.randn(num_agents, action_size) # select an action (for each agent)\n",
    "        actions = np.clip(actions, -1, 1)                  # all actions between -1 and 1\n",
    "        env_info = env.step(actions)[brain_name]           # send all actions to tne environment\n",
    "        next_states = env_info.vector_observations         # get next state (for each agent)\n",
    "        rewards = env_info.rewards                         # get reward (for each agent)\n",
    "        dones = env_info.local_done                        # see if episode finished\n",
    "        scores += env_info.rewards                         # update the score (for each agent)\n",
    "        states = next_states                               # roll over states to next time step\n",
    "        if np.any(dones):                                  # exit loop if episode finished\n",
    "            break\n",
    "    print('Score (max over agents) from episode {}: {}'.format(i, np.max(scores)))"
   ]
  },
  {
   "cell_type": "markdown",
   "metadata": {},
   "source": [
    "When finished, you can close the environment."
   ]
  },
  {
   "cell_type": "code",
   "execution_count": 7,
   "metadata": {},
   "outputs": [],
   "source": [
    "# env.close()"
   ]
  },
  {
   "cell_type": "markdown",
   "metadata": {},
   "source": [
    "### 4. It's Your Turn!\n",
    "\n",
    "Now it's your turn to train your own agent to solve the environment!  A few **important notes**:\n",
    "- When training the environment, set `train_mode=True`, so that the line for resetting the environment looks like the following:\n",
    "```python\n",
    "env_info = env.reset(train_mode=True)[brain_name]\n",
    "```\n",
    "- To structure your work, you're welcome to work directly in this Jupyter notebook, or you might like to start over with a new file!  You can see the list of files in the workspace by clicking on **_Jupyter_** in the top left corner of the notebook.\n",
    "- In this coding environment, you will not be able to watch the agents while they are training.  However, **_after training the agents_**, you can download the saved model weights to watch the agents on your own machine! "
   ]
  },
  {
   "cell_type": "code",
   "execution_count": 8,
   "metadata": {},
   "outputs": [],
   "source": [
    "SOLVED_SCORE = 0.5\n",
    "CONSEC_EPISODES = 100\n",
    "PRINT_EVERY = 10\n",
    "ADD_NOISE = True"
   ]
  },
  {
   "cell_type": "code",
   "execution_count": 9,
   "metadata": {
    "scrolled": false
   },
   "outputs": [
    {
     "name": "stdout",
     "output_type": "stream",
     "text": [
      "Episodes 0010\tMax Reward: 0.100\tMoving Average Score: 0.010\n",
      "Episodes 0020\tMax Reward: 0.000\tMoving Average Score: 0.005\n",
      "Episodes 0030\tMax Reward: 0.000\tMoving Average Score: 0.003\n",
      "Episodes 0040\tMax Reward: 0.000\tMoving Average Score: 0.003\n",
      "Episodes 0050\tMax Reward: 0.000\tMoving Average Score: 0.002\n",
      "Episodes 0060\tMax Reward: 0.000\tMoving Average Score: 0.002\n",
      "Episodes 0070\tMax Reward: 0.000\tMoving Average Score: 0.001\n",
      "Episodes 0080\tMax Reward: 0.100\tMoving Average Score: 0.003\n",
      "Episodes 0090\tMax Reward: 0.100\tMoving Average Score: 0.003\n",
      "Episodes 0100\tMax Reward: 0.200\tMoving Average Score: 0.006\n",
      "Episodes 0110\tMax Reward: 0.000\tMoving Average Score: 0.005\n",
      "Episodes 0120\tMax Reward: 0.100\tMoving Average Score: 0.006\n",
      "Episodes 0130\tMax Reward: 0.200\tMoving Average Score: 0.008\n",
      "Episodes 0140\tMax Reward: 0.100\tMoving Average Score: 0.009\n",
      "Episodes 0150\tMax Reward: 0.200\tMoving Average Score: 0.012\n",
      "Episodes 0160\tMax Reward: 0.100\tMoving Average Score: 0.014\n",
      "Episodes 0170\tMax Reward: 0.100\tMoving Average Score: 0.018\n",
      "Episodes 0180\tMax Reward: 0.100\tMoving Average Score: 0.020\n",
      "Episodes 0190\tMax Reward: 0.100\tMoving Average Score: 0.021\n",
      "Episodes 0200\tMax Reward: 0.200\tMoving Average Score: 0.023\n",
      "Episodes 0210\tMax Reward: 0.200\tMoving Average Score: 0.027\n",
      "Episodes 0220\tMax Reward: 0.100\tMoving Average Score: 0.032\n",
      "Episodes 0230\tMax Reward: 0.100\tMoving Average Score: 0.035\n",
      "Episodes 0240\tMax Reward: 0.200\tMoving Average Score: 0.045\n",
      "Episodes 0250\tMax Reward: 0.100\tMoving Average Score: 0.050\n",
      "Episodes 0260\tMax Reward: 0.200\tMoving Average Score: 0.055\n",
      "Episodes 0270\tMax Reward: 0.100\tMoving Average Score: 0.052\n",
      "Episodes 0280\tMax Reward: 0.100\tMoving Average Score: 0.051\n",
      "Episodes 0290\tMax Reward: 0.300\tMoving Average Score: 0.054\n",
      "Episodes 0300\tMax Reward: 0.100\tMoving Average Score: 0.054\n",
      "Episodes 0310\tMax Reward: 0.100\tMoving Average Score: 0.052\n",
      "Episodes 0320\tMax Reward: 0.300\tMoving Average Score: 0.054\n",
      "Episodes 0330\tMax Reward: 0.300\tMoving Average Score: 0.057\n",
      "Episodes 0340\tMax Reward: 0.100\tMoving Average Score: 0.048\n",
      "Episodes 0350\tMax Reward: 0.300\tMoving Average Score: 0.047\n",
      "Episodes 0360\tMax Reward: 0.100\tMoving Average Score: 0.045\n",
      "Episodes 0370\tMax Reward: 0.100\tMoving Average Score: 0.046\n",
      "Episodes 0380\tMax Reward: 0.100\tMoving Average Score: 0.049\n",
      "Episodes 0390\tMax Reward: 0.300\tMoving Average Score: 0.052\n",
      "Episodes 0400\tMax Reward: 0.100\tMoving Average Score: 0.052\n",
      "Episodes 0410\tMax Reward: 0.200\tMoving Average Score: 0.058\n",
      "Episodes 0420\tMax Reward: 0.200\tMoving Average Score: 0.057\n",
      "Episodes 0430\tMax Reward: 0.100\tMoving Average Score: 0.055\n",
      "Episodes 0440\tMax Reward: 0.100\tMoving Average Score: 0.057\n",
      "Episodes 0450\tMax Reward: 0.200\tMoving Average Score: 0.054\n",
      "Episodes 0460\tMax Reward: 0.200\tMoving Average Score: 0.058\n",
      "Episodes 0470\tMax Reward: 0.100\tMoving Average Score: 0.063\n",
      "Episodes 0480\tMax Reward: 0.200\tMoving Average Score: 0.068\n",
      "Episodes 0490\tMax Reward: 0.100\tMoving Average Score: 0.066\n",
      "Episodes 0500\tMax Reward: 0.100\tMoving Average Score: 0.067\n",
      "Episodes 0510\tMax Reward: 0.100\tMoving Average Score: 0.067\n",
      "Episodes 0520\tMax Reward: 0.100\tMoving Average Score: 0.067\n",
      "Episodes 0530\tMax Reward: 0.200\tMoving Average Score: 0.069\n",
      "Episodes 0540\tMax Reward: 0.300\tMoving Average Score: 0.072\n",
      "Episodes 0550\tMax Reward: 0.500\tMoving Average Score: 0.079\n",
      "Episodes 0560\tMax Reward: 0.300\tMoving Average Score: 0.079\n",
      "Episodes 0570\tMax Reward: 0.300\tMoving Average Score: 0.080\n",
      "Episodes 0580\tMax Reward: 0.400\tMoving Average Score: 0.086\n",
      "Episodes 0590\tMax Reward: 0.100\tMoving Average Score: 0.087\n",
      "Episodes 0600\tMax Reward: 0.300\tMoving Average Score: 0.090\n",
      "Episodes 0610\tMax Reward: 0.200\tMoving Average Score: 0.092\n",
      "Episodes 0620\tMax Reward: 0.400\tMoving Average Score: 0.094\n",
      "Episodes 0630\tMax Reward: 0.200\tMoving Average Score: 0.093\n",
      "Episodes 0640\tMax Reward: 0.200\tMoving Average Score: 0.096\n",
      "Episodes 0650\tMax Reward: 0.400\tMoving Average Score: 0.103\n",
      "Episodes 0660\tMax Reward: 0.300\tMoving Average Score: 0.109\n",
      "Episodes 0670\tMax Reward: 0.100\tMoving Average Score: 0.110\n",
      "Episodes 0680\tMax Reward: 0.400\tMoving Average Score: 0.107\n",
      "Episodes 0690\tMax Reward: 0.300\tMoving Average Score: 0.112\n",
      "Episodes 0700\tMax Reward: 0.200\tMoving Average Score: 0.110\n",
      "Episodes 0710\tMax Reward: 0.300\tMoving Average Score: 0.111\n",
      "Episodes 0720\tMax Reward: 0.200\tMoving Average Score: 0.115\n",
      "Episodes 0730\tMax Reward: 0.400\tMoving Average Score: 0.121\n",
      "Episodes 0740\tMax Reward: 0.200\tMoving Average Score: 0.122\n",
      "Episodes 0750\tMax Reward: 0.200\tMoving Average Score: 0.116\n",
      "Episodes 0760\tMax Reward: 0.500\tMoving Average Score: 0.119\n",
      "Episodes 0770\tMax Reward: 0.300\tMoving Average Score: 0.126\n",
      "Episodes 0780\tMax Reward: 0.200\tMoving Average Score: 0.126\n",
      "Episodes 0790\tMax Reward: 0.500\tMoving Average Score: 0.133\n",
      "Episodes 0800\tMax Reward: 0.400\tMoving Average Score: 0.145\n",
      "Episodes 0810\tMax Reward: 0.300\tMoving Average Score: 0.155\n",
      "Episodes 0820\tMax Reward: 0.500\tMoving Average Score: 0.158\n",
      "Episodes 0830\tMax Reward: 0.300\tMoving Average Score: 0.157\n",
      "Episodes 0840\tMax Reward: 0.400\tMoving Average Score: 0.159\n",
      "Episodes 0850\tMax Reward: 0.200\tMoving Average Score: 0.157\n",
      "Episodes 0860\tMax Reward: 0.600\tMoving Average Score: 0.154\n",
      "Episodes 0870\tMax Reward: 0.200\tMoving Average Score: 0.149\n",
      "Episodes 0880\tMax Reward: 0.300\tMoving Average Score: 0.152\n",
      "Episodes 0890\tMax Reward: 0.400\tMoving Average Score: 0.150\n",
      "Episodes 0900\tMax Reward: 0.500\tMoving Average Score: 0.148\n",
      "Episodes 0910\tMax Reward: 0.600\tMoving Average Score: 0.144\n",
      "Episodes 0920\tMax Reward: 0.200\tMoving Average Score: 0.140\n",
      "Episodes 0930\tMax Reward: 0.200\tMoving Average Score: 0.138\n",
      "Episodes 0940\tMax Reward: 0.200\tMoving Average Score: 0.136\n",
      "Episodes 0950\tMax Reward: 0.200\tMoving Average Score: 0.139\n",
      "Episodes 0960\tMax Reward: 0.200\tMoving Average Score: 0.133\n",
      "Episodes 0970\tMax Reward: 0.200\tMoving Average Score: 0.132\n",
      "Episodes 0980\tMax Reward: 0.200\tMoving Average Score: 0.129\n",
      "Episodes 0990\tMax Reward: 0.300\tMoving Average Score: 0.130\n",
      "Episodes 1000\tMax Reward: 0.600\tMoving Average Score: 0.131\n",
      "Episodes 1010\tMax Reward: 0.400\tMoving Average Score: 0.134\n",
      "Episodes 1020\tMax Reward: 0.500\tMoving Average Score: 0.138\n",
      "Episodes 1030\tMax Reward: 0.200\tMoving Average Score: 0.140\n",
      "Episodes 1040\tMax Reward: 0.200\tMoving Average Score: 0.140\n",
      "Episodes 1050\tMax Reward: 0.300\tMoving Average Score: 0.142\n",
      "Episodes 1060\tMax Reward: 3.300\tMoving Average Score: 0.189\n",
      "Episodes 1070\tMax Reward: 1.700\tMoving Average Score: 0.208\n",
      "Episodes 1080\tMax Reward: 1.100\tMoving Average Score: 0.220\n",
      "Episodes 1090\tMax Reward: 0.200\tMoving Average Score: 0.213\n",
      "Episodes 1100\tMax Reward: 0.600\tMoving Average Score: 0.215\n",
      "Episodes 1110\tMax Reward: 0.500\tMoving Average Score: 0.214\n",
      "Episodes 1120\tMax Reward: 2.000\tMoving Average Score: 0.233\n",
      "Episodes 1130\tMax Reward: 0.200\tMoving Average Score: 0.234\n",
      "Episodes 1140\tMax Reward: 1.300\tMoving Average Score: 0.247\n",
      "Episodes 1150\tMax Reward: 2.200\tMoving Average Score: 0.301\n",
      "Episodes 1160\tMax Reward: 0.200\tMoving Average Score: 0.254\n",
      "Episodes 1170\tMax Reward: 0.200\tMoving Average Score: 0.234\n",
      "Episodes 1180\tMax Reward: 0.300\tMoving Average Score: 0.219\n",
      "Episodes 1190\tMax Reward: 0.900\tMoving Average Score: 0.225\n",
      "Episodes 1200\tMax Reward: 0.500\tMoving Average Score: 0.223\n",
      "Episodes 1210\tMax Reward: 0.200\tMoving Average Score: 0.216\n",
      "Episodes 1220\tMax Reward: 2.600\tMoving Average Score: 0.216\n",
      "Episodes 1230\tMax Reward: 1.800\tMoving Average Score: 0.249\n",
      "Episodes 1240\tMax Reward: 0.300\tMoving Average Score: 0.234\n",
      "Episodes 1250\tMax Reward: 0.400\tMoving Average Score: 0.180\n",
      "Episodes 1260\tMax Reward: 1.400\tMoving Average Score: 0.217\n",
      "Episodes 1270\tMax Reward: 0.300\tMoving Average Score: 0.215\n",
      "Episodes 1280\tMax Reward: 0.600\tMoving Average Score: 0.224\n",
      "Episodes 1290\tMax Reward: 1.100\tMoving Average Score: 0.238\n",
      "Episodes 1300\tMax Reward: 0.400\tMoving Average Score: 0.242\n",
      "Episodes 1310\tMax Reward: 0.700\tMoving Average Score: 0.258\n",
      "Episodes 1320\tMax Reward: 0.500\tMoving Average Score: 0.240\n",
      "Episodes 1330\tMax Reward: 0.800\tMoving Average Score: 0.222\n",
      "Episodes 1340\tMax Reward: 3.000\tMoving Average Score: 0.305\n",
      "Episodes 1350\tMax Reward: 0.900\tMoving Average Score: 0.324\n",
      "Episodes 1360\tMax Reward: 1.800\tMoving Average Score: 0.327\n",
      "Episodes 1370\tMax Reward: 1.100\tMoving Average Score: 0.366\n"
     ]
    },
    {
     "name": "stdout",
     "output_type": "stream",
     "text": [
      "Episodes 1380\tMax Reward: 1.100\tMoving Average Score: 0.381\n",
      "Episodes 1390\tMax Reward: 0.900\tMoving Average Score: 0.399\n",
      "Episodes 1400\tMax Reward: 0.500\tMoving Average Score: 0.410\n",
      "Episodes 1410\tMax Reward: 0.500\tMoving Average Score: 0.411\n",
      "Episodes 1420\tMax Reward: 3.400\tMoving Average Score: 0.473\n",
      "Episodes 1430\tMax Reward: 0.800\tMoving Average Score: 0.489\n",
      "Episodes 1440\tMax Reward: 1.100\tMoving Average Score: 0.422\n",
      "<-- Environment solved in 1348 episodes!                 \n",
      "<-- Moving Average Score: 0.516 over past 100 episodes\n",
      "<-- Best episode so far!                \n",
      "Episode 1449\tMax Reward: 5.200\tMoving Average Score: 0.563\n",
      "Episodes 1450\tMax Reward: 5.200\tMoving Average Score: 0.573\n",
      "Episodes 1460\tMax Reward: 5.000\tMoving Average Score: 0.651\n",
      "<-- Best episode so far!                \n",
      "Episode 1464\tMax Reward: 5.200\tMoving Average Score: 0.735\n",
      "<-- Best episode so far!                \n",
      "Episode 1467\tMax Reward: 5.200\tMoving Average Score: 0.776\n",
      "Episodes 1470\tMax Reward: 5.200\tMoving Average Score: 0.821\n",
      "<-- Best episode so far!                \n",
      "Episode 1470\tMax Reward: 5.200\tMoving Average Score: 0.821\n",
      "Episodes 1480\tMax Reward: 4.200\tMoving Average Score: 0.930\n",
      "<-- Best episode so far!                \n",
      "Episode 1481\tMax Reward: 5.200\tMoving Average Score: 0.979\n",
      "Episodes 1490\tMax Reward: 5.200\tMoving Average Score: 1.023\n",
      "Episodes 1500\tMax Reward: 1.700\tMoving Average Score: 1.027\n",
      "Episodes 1510\tMax Reward: 0.900\tMoving Average Score: 1.017\n",
      "Episodes 1520\tMax Reward: 1.400\tMoving Average Score: 0.975\n",
      "Episodes 1530\tMax Reward: 0.700\tMoving Average Score: 0.966\n",
      "Episodes 1540\tMax Reward: 0.400\tMoving Average Score: 0.961\n",
      "Episodes 1550\tMax Reward: 0.500\tMoving Average Score: 0.794\n",
      "Episodes 1560\tMax Reward: 0.500\tMoving Average Score: 0.683\n",
      "Episodes 1570\tMax Reward: 0.700\tMoving Average Score: 0.489\n",
      "Episodes 1580\tMax Reward: 0.500\tMoving Average Score: 0.358\n",
      "Episodes 1590\tMax Reward: 0.600\tMoving Average Score: 0.242\n",
      "Episodes 1600\tMax Reward: 0.800\tMoving Average Score: 0.231\n",
      "Episodes 1610\tMax Reward: 0.700\tMoving Average Score: 0.228\n",
      "Episodes 1620\tMax Reward: 0.700\tMoving Average Score: 0.203\n",
      "Episodes 1630\tMax Reward: 0.300\tMoving Average Score: 0.178\n",
      "Episodes 1640\tMax Reward: 1.100\tMoving Average Score: 0.183\n",
      "Episodes 1650\tMax Reward: 0.700\tMoving Average Score: 0.187\n",
      "Episodes 1660\tMax Reward: 0.300\tMoving Average Score: 0.182\n",
      "Episodes 1670\tMax Reward: 0.400\tMoving Average Score: 0.175\n",
      "Episodes 1680\tMax Reward: 0.700\tMoving Average Score: 0.188\n",
      "Episodes 1690\tMax Reward: 0.900\tMoving Average Score: 0.190\n",
      "Episodes 1700\tMax Reward: 0.400\tMoving Average Score: 0.184\n",
      "Episodes 1710\tMax Reward: 1.300\tMoving Average Score: 0.192\n",
      "Episodes 1720\tMax Reward: 0.300\tMoving Average Score: 0.192\n",
      "Episodes 1730\tMax Reward: 1.300\tMoving Average Score: 0.218\n",
      "Episodes 1740\tMax Reward: 0.700\tMoving Average Score: 0.217\n",
      "Episodes 1750\tMax Reward: 0.900\tMoving Average Score: 0.220\n",
      "Episodes 1760\tMax Reward: 1.500\tMoving Average Score: 0.243\n",
      "Episodes 1770\tMax Reward: 1.100\tMoving Average Score: 0.268\n",
      "Episodes 1780\tMax Reward: 5.200\tMoving Average Score: 0.346\n",
      "Episodes 1790\tMax Reward: 5.200\tMoving Average Score: 0.426\n",
      "<-- Best episode so far!                \n",
      "Episode 1792\tMax Reward: 5.200\tMoving Average Score: 0.529\n",
      "<-- Training stopped. Best score acheived in less than 200 episodes\n"
     ]
    }
   ],
   "source": [
    "# MADDPG function\n",
    "\n",
    "def maddpg(n_episodes=2000, max_t=1000, train_mode=True):\n",
    "    \"\"\"Multi-Agent Deep Deterministic Policy Gradient (MADDPG)\n",
    "    \n",
    "    Params\n",
    "    ======\n",
    "        n_episodes (int)      : maximum number of training episodes\n",
    "        max_t (int)           : maximum number of timesteps per episode\n",
    "        train_mode (bool)     : if 'True' set environment to training mode\n",
    "\n",
    "    \"\"\"\n",
    "    scores_window = deque(maxlen=CONSEC_EPISODES)\n",
    "    scores_all = []\n",
    "    moving_average = []\n",
    "    best_score = -np.inf\n",
    "    best_episode = 0\n",
    "    already_solved = False    \n",
    "\n",
    "    for i_episode in range(1, n_episodes+1):\n",
    "        env_info = env.reset(train_mode=train_mode)[brain_name]         # reset the environment\n",
    "        states = np.reshape(env_info.vector_observations, (1,48)) # get states and combine them\n",
    "        agent_0.reset()\n",
    "        agent_1.reset()\n",
    "        scores = np.zeros(num_agents)\n",
    "        while True:\n",
    "            actions = get_actions(states, ADD_NOISE)           # choose agent actions and combine them\n",
    "            env_info = env.step(actions)[brain_name]           # send both agents' actions together to the environment\n",
    "            next_states = np.reshape(env_info.vector_observations, (1, 48)) # combine the agent next states\n",
    "            rewards = env_info.rewards                         # get reward\n",
    "            done = env_info.local_done                         # see if episode finished\n",
    "            agent_0.step(states, actions, rewards[0], next_states, done, 0) # agent 1 learns\n",
    "            agent_1.step(states, actions, rewards[1], next_states, done, 1) # agent 2 learns\n",
    "            scores += np.max(rewards)                          # update the score for each agent\n",
    "            states = next_states                               # roll over states to next time step\n",
    "            if np.any(done):                                   # exit loop if episode finished\n",
    "                break\n",
    "\n",
    "        ep_best_score = np.max(scores)\n",
    "        scores_window.append(ep_best_score)\n",
    "        scores_all.append(ep_best_score)\n",
    "        moving_average.append(np.mean(scores_window))\n",
    "\n",
    "        # save best score                        \n",
    "        if ep_best_score > best_score:\n",
    "            best_score = ep_best_score\n",
    "            best_episode = i_episode\n",
    "        \n",
    "        # print results\n",
    "        if i_episode % PRINT_EVERY == 0:\n",
    "            print('Episodes {:0>4d}\\tMax Reward: {:.3f}\\tMoving Average Score: {:.3f}'.format(\n",
    "                i_episode, np.max(scores_all[-PRINT_EVERY:]), moving_average[-1]))\n",
    "\n",
    "        # determine if environment is solved and keep best performing models\n",
    "        if moving_average[-1] >= SOLVED_SCORE:\n",
    "            if not already_solved:\n",
    "                print('<-- Environment solved in {:d} episodes! \\\n",
    "                \\n<-- Moving Average Score: {:.3f} over past {:d} episodes'.format(\n",
    "                    i_episode-CONSEC_EPISODES, moving_average[-1], CONSEC_EPISODES))\n",
    "                already_solved = True\n",
    "                # save weights\n",
    "                torch.save(agent_0.actor_local.state_dict(), 'models/actor_0.pth')\n",
    "                torch.save(agent_0.critic_local.state_dict(), 'models/critic_0.pth')\n",
    "                torch.save(agent_1.actor_local.state_dict(), 'models/actor_1.pth')\n",
    "                torch.save(agent_1.critic_local.state_dict(), 'models/critic_1.pth')\n",
    "            elif ep_best_score >= best_score:\n",
    "                print('<-- Best episode so far!\\\n",
    "                \\nEpisode {:0>4d}\\tMax Reward: {:.3f}\\tMoving Average Score: {:.3f}'.format(\n",
    "                i_episode, ep_best_score, moving_average[-1]))\n",
    "                # save weights\n",
    "                torch.save(agent_0.actor_local.state_dict(), 'models/actor_0.pth')\n",
    "                torch.save(agent_0.critic_local.state_dict(), 'models/critic_0.pth')\n",
    "                torch.save(agent_1.actor_local.state_dict(), 'models/actor_1.pth')\n",
    "                torch.save(agent_1.critic_local.state_dict(), 'models/critic_1.pth')\n",
    "            elif (i_episode-best_episode) >= 200:\n",
    "                # stop training if model stops converging\n",
    "                print('<-- Training stopped. Best score acheived in less than 200 episodes')\n",
    "                break\n",
    "            else:\n",
    "                continue\n",
    "            \n",
    "    return scores_all, moving_average\n",
    "\n",
    "\n",
    "def get_actions(states, add_noise):\n",
    "    '''gets actions for each agent and then combines them into one array'''\n",
    "    action_0 = agent_0.act(states, add_noise)    # agent 0 chooses an action\n",
    "    action_1 = agent_1.act(states, add_noise)    # agent 1 chooses an action\n",
    "    return np.concatenate((action_0, action_1), axis=0).flatten()\n",
    "\n",
    "# initialize agents\n",
    "agent_0 = Agent(state_size, action_size, num_agents=1, random_seed=0)\n",
    "agent_1 = Agent(state_size, action_size, num_agents=1, random_seed=0)\n",
    "\n",
    "with active_session():\n",
    "    scores, avgs = maddpg()"
   ]
  },
  {
   "cell_type": "code",
   "execution_count": 10,
   "metadata": {},
   "outputs": [
    {
     "data": {
      "image/png": "[encoded data removed]",
      "text/plain": [
       "<matplotlib.figure.Figure at 0x7fb071ab06d8>"
      ]
     },
     "metadata": {
      "needs_background": "light"
     },
     "output_type": "display_data"
    }
   ],
   "source": [
    "# plot the scores\n",
    "fig = plt.figure()\n",
    "ax = fig.add_subplot(111)\n",
    "plt.plot(np.arange(len(scores)), scores, label='MADDPG')\n",
    "plt.plot(np.arange(len(scores)), avgs, c='r', label='moving avg')\n",
    "plt.ylabel('Score')\n",
    "plt.xlabel('Episode #')\n",
    "plt.legend(loc='upper left');\n",
    "plt.show()"
   ]
  },
  {
   "cell_type": "markdown",
   "metadata": {},
   "source": [
    "#### Test a saved agent"
   ]
  },
  {
   "cell_type": "code",
   "execution_count": 11,
   "metadata": {},
   "outputs": [],
   "source": [
    "CONSEC_EPISODES = 10\n",
    "PRINT_EVERY = 1\n",
    "ADD_NOISE = False"
   ]
  },
  {
   "cell_type": "code",
   "execution_count": 12,
   "metadata": {},
   "outputs": [],
   "source": [
    "## reinitialize the agents (if needed)\n",
    "agent_0 = Agent(state_size, action_size, num_agents=1, random_seed=0)\n",
    "agent_1 = Agent(state_size, action_size, num_agents=1, random_seed=0)\n",
    "\n",
    "# load the weights from file\n",
    "agent_0_weights = 'models/actor_0.pth'\n",
    "agent_1_weights = 'models/actor_1.pth'\n",
    "agent_0.actor_local.load_state_dict(torch.load(agent_0_weights))\n",
    "agent_1.actor_local.load_state_dict(torch.load(agent_1_weights))"
   ]
  },
  {
   "cell_type": "code",
   "execution_count": 13,
   "metadata": {},
   "outputs": [],
   "source": [
    "def test(n_episodes=10, max_t=1000, train_mode=False):\n",
    "\n",
    "    scores_window = deque(maxlen=CONSEC_EPISODES)\n",
    "    scores_all = []\n",
    "    moving_average = []  \n",
    "\n",
    "    for i_episode in range(1, n_episodes+1):\n",
    "        env_info = env.reset(train_mode=train_mode)[brain_name]         # reset the environment\n",
    "        states = np.reshape(env_info.vector_observations, (1,48)) # get states and combine them\n",
    "        scores = np.zeros(num_agents)\n",
    "        while True:\n",
    "            actions = get_actions(states, ADD_NOISE)           # choose agent actions and combine them\n",
    "            env_info = env.step(actions)[brain_name]           # send both agents' actions together to the environment\n",
    "            next_states = np.reshape(env_info.vector_observations, (1, 48)) # combine the agent next states\n",
    "            rewards = env_info.rewards                         # get reward\n",
    "            done = env_info.local_done                         # see if episode finished\n",
    "            scores += np.max(rewards)                          # update the score for each agent\n",
    "            states = next_states                               # roll over states to next time step\n",
    "            if np.any(done):                                   # exit loop if episode finished\n",
    "                break\n",
    "\n",
    "        ep_best_score = np.max(scores)\n",
    "        scores_window.append(ep_best_score)\n",
    "        scores_all.append(ep_best_score)\n",
    "        moving_average.append(np.mean(scores_window))\n",
    "\n",
    "        # print results\n",
    "        if i_episode % PRINT_EVERY == 0:\n",
    "            print('Episodes {:0>4d}\\tMax Reward: {:.3f}\\tMoving Average: {:.3f}'.format(\n",
    "                 i_episode, np.max(scores_all[-PRINT_EVERY:]), moving_average[-1]))\n",
    "            \n",
    "    return scores_all, moving_average"
   ]
  },
  {
   "cell_type": "code",
   "execution_count": null,
   "metadata": {},
   "outputs": [
    {
     "name": "stdout",
     "output_type": "stream",
     "text": [
      "Episodes 0001\tMax Reward: 0.100\tMoving Average: 0.100\n",
      "Episodes 0002\tMax Reward: 0.600\tMoving Average: 0.350\n"
     ]
    }
   ],
   "source": [
    "scores, avgs = test()"
   ]
  },
  {
   "cell_type": "code",
   "execution_count": null,
   "metadata": {},
   "outputs": [],
   "source": [
    "# plot the scores\n",
    "fig = plt.figure()\n",
    "ax = fig.add_subplot(111)\n",
    "plt.plot(np.arange(len(scores)), scores, label='MADDPG')\n",
    "plt.plot(np.arange(len(scores)), avgs, c='r', label='moving avg')\n",
    "plt.ylabel('Score')\n",
    "plt.xlabel('Episode #')\n",
    "plt.legend(loc='upper left');\n",
    "plt.show()\n"
   ]
  },
  {
   "cell_type": "code",
   "execution_count": null,
   "metadata": {},
   "outputs": [],
   "source": []
  },
  {
   "cell_type": "code",
   "execution_count": null,
   "metadata": {},
   "outputs": [],
   "source": []
  }
 ],
 "metadata": {
  "kernelspec": {
   "display_name": "Python 3",
   "language": "python",
   "name": "python3"
  },
  "language_info": {
   "codemirror_mode": {
    "name": "ipython",
    "version": 3
   },
   "file_extension": ".py",
   "mimetype": "text/x-python",
   "name": "python",
   "nbconvert_exporter": "python",
   "pygments_lexer": "ipython3",
   "version": "3.6.3"
  }
 },
 "nbformat": 4,
 "nbformat_minor": 2
}
